{
 "cells": [
  {
   "cell_type": "markdown",
   "metadata": {},
   "source": [
    "# Update calls\n",
    "\n",
    "**2016-09-26**\n",
    "Issues with event total in the display where the currency is not correct - does not correspond in view and database\n",
    "Should a report (which will be blank) be available for participants who didn't actually bid?\n",
    "\n",
    "Gaurav\n",
    "Table-type questions in testing\n",
    "Have chosen to deploy in staging so Nic can have a look at it\n",
    "\n",
    "Deepesh \n",
    "MD6639 - currencies change when copying templates to multi-currency events; corrected and pushed to lot template branch\n",
    "MD6640 - similar copy, but with different exchange ratios will result in the wrong exchange rate; corrected(?) and pushed to lot template branch\n",
    "MD6486 - Hiding details of completed lots/bids/phases when confusing or irrelevant; rank from qualification bids not valid when bid at lot level, etc.\n",
    "\n",
    "Nitin is away in hospital - not hiring replacement as yet\n",
    "\n",
    "Vijay\n",
    "MD6655 - Special characters on name, email, company name. Taking currency of host at time of creating licence but participant is also changing currency at time of bidding.\n",
    "MD6669 - 'RFQ' showing in reports even when participants have not placed any RFQ bids or situation is not an RFQ; RFQ bids are not used during auction for reasons of fairness.\n",
    "\n",
    "James\n",
    "MD6662 - Wiring view for picklists to the database so that users can create, edit and select picklists properly.\n",
    "\n",
    "**2016-09-28**\n",
    "\n",
    "Shobit\n",
    " - Fixed copy-paste of questionnaire questions feature\n",
    " - Pull request created\n",
    "\n",
    "Gaurav\n",
    " - Checking report feature; issues discovered\n",
    " - Continuing with testing; will submit report with issues and merge suggestions.\n",
    "\n",
    "Deepesh\n",
    " - MD6673 - feedback on table questions; validation errors changed question type!\n",
    " - Added check to not refresh question on validation if table question (in controller); discussed making this a generic property for all question types.\n",
    " - Fixed issues with row and column counts\n",
    " - JS not being executed due to content_for; has been debugged and replaced with script.\n",
    " - Date type questions chosen after table type question removed text boxes; has refactored relevant JS.\n",
    " - MD6677 - Gaurav found irreproducible bugs; recheck as necessary.\n",
    " - Exceptions while creating BLIC\n",
    " - MD6478 - Queries on, addressing will be ongoing plan.\n",
    "\n",
    "Vijay\n",
    " - MD6669 - Download report button; if event is RFQ and there is no existing bid, check and disable download report button.\n",
    " - MD6675 - If participant changes currency in UOM does not reflect on report section; added fix to ensure that currencies remain in sync; get currency and conversion rate for participant side when report requested by participant.\n",
    " - MD6670 - Multi-currency event; participant changes currencies report does not reflect the change. For Particpant text was not giving relevant text information.\n",
    " - MD6678 - Currencies fix; ongoing plan.\n",
    "\n",
    "Nic\n",
    " - Has been on Support, catch up with queries\n",
    " - Look at planning for Aggreko requirements"
   ]
  }
 ],
 "metadata": {
  "kernelspec": {
   "display_name": "Ruby 2.3.0",
   "language": "ruby",
   "name": "ruby"
  },
  "language_info": {
   "file_extension": ".rb",
   "mimetype": "application/x-ruby",
   "name": "ruby",
   "version": "2.3.0"
  }
 },
 "nbformat": 4,
 "nbformat_minor": 1
}
