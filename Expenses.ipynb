{
 "cells": [
  {
   "cell_type": "markdown",
   "metadata": {},
   "source": [
    "# Expenses\n",
    "\n",
    "**Assumptions**\n",
    "\n",
    "Distance driven is expensed at 45p per mile\n",
    "\n",
    "Items at price paid\n",
    "\n",
    "Parking at price paid\n",
    "\n",
    "Transport tickets at face value"
   ]
  },
  {
   "cell_type": "markdown",
   "metadata": {},
   "source": [
    "**September 2016**"
   ]
  },
  {
   "cell_type": "code",
   "execution_count": 4,
   "metadata": {
    "collapsed": false
   },
   "outputs": [
    {
     "data": {
      "text/plain": [
       "45.88"
      ]
     },
     "execution_count": 4,
     "metadata": {},
     "output_type": "execute_result"
    }
   ],
   "source": [
    "items = {\n",
    "  laptop_bag: ['Approved by Nic', 39.99], \n",
    "  parking_19th: [3.19], \n",
    "  miles_19th: ['Six miles, GU8 5UR to Godalming town centre', 6.0*0.45]\n",
    "  }\n",
    "items.values.map(&:last).reduce(:+)"
   ]
  },
  {
   "cell_type": "markdown",
   "metadata": {},
   "source": [
    "**October 2016**"
   ]
  },
  {
   "cell_type": "code",
   "execution_count": null,
   "metadata": {
    "collapsed": true
   },
   "outputs": [],
   "source": []
  }
 ],
 "metadata": {
  "kernelspec": {
   "display_name": "Ruby 2.3.0",
   "language": "ruby",
   "name": "ruby"
  },
  "language_info": {
   "file_extension": ".rb",
   "mimetype": "application/x-ruby",
   "name": "ruby",
   "version": "2.3.0"
  }
 },
 "nbformat": 4,
 "nbformat_minor": 1
}
