{
 "cells": [
  {
   "cell_type": "markdown",
   "metadata": {},
   "source": [
    "# Expenses\n",
    "\n",
    "**Assumptions**\n",
    "\n",
    "Distance driven is expensed at 45p per mile\n",
    "\n",
    "Items at price paid\n",
    "\n",
    "Parking at price paid\n",
    "\n",
    "Transport tickets at face value"
   ]
  },
  {
   "cell_type": "markdown",
   "metadata": {},
   "source": [
    "**September 2016**"
   ]
  },
  {
   "cell_type": "code",
   "execution_count": 2,
   "metadata": {
    "collapsed": false
   },
   "outputs": [
    {
     "data": {
      "text/plain": [
       "55.92"
      ]
     },
     "execution_count": 2,
     "metadata": {},
     "output_type": "execute_result"
    }
   ],
   "source": [
    "items = {\n",
    "  laptop_bag: ['Approved by Nic', 39.99],\n",
    "  laptop_bag_shipping: ['Cheapest Option', 4.75],\n",
    "  parking_19th: ['0900-1400', 3.19], \n",
    "  miles_19th: ['Six miles, GU8 5UR to Godalming town centre', 6.0*0.45],\n",
    "  parking_28th: ['0855-1255', 2.59],\n",
    "  miles_28th: ['Six miles, GU8 5UR to Godalming town centre', 6.0*0.45]\n",
    "  }\n",
    "items.values.map(&:last).reduce(:+)"
   ]
  },
  {
   "cell_type": "markdown",
   "metadata": {},
   "source": [
    "**October 2016**"
   ]
  },
  {
   "cell_type": "code",
   "execution_count": null,
   "metadata": {
    "collapsed": true
   },
   "outputs": [],
   "source": []
  }
 ],
 "metadata": {
  "kernelspec": {
   "display_name": "Ruby 2.3.1",
   "language": "ruby",
   "name": "ruby"
  },
  "language_info": {
   "file_extension": ".rb",
   "mimetype": "application/x-ruby",
   "name": "ruby",
   "version": "2.3.1"
  }
 },
 "nbformat": 4,
 "nbformat_minor": 1
}
