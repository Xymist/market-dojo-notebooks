{
 "cells": [
  {
   "cell_type": "markdown",
   "metadata": {},
   "source": [
    "# Averda\n",
    "\n",
    "- Cleaning services, street cleaning etc\n",
    "\n",
    "- Want integration with their Oracle system and API available for both push and pull, as follows:\n",
    "\n",
    "1.    Periodic reminders to hold a sourcing event based on contract/ blanket purchase order expiry\n",
    " - This is just an email via Delayed Job on our end, OR they could set up something for themselves since they're the ones who sign and retain the contracts.\n",
    "\n",
    "2.    Lot set up in Market Dojo pulling item descriptions directly from Oracle\n",
    " - Possible, but this will be awful. We would need to have some sort of read privilege on their Oracle database, attached to their Company model...\n",
    " - Maybe they need an API on their end rather than ours?\n",
    "\n",
    "3.    Output of e-auction feeding directly to Oracle to set up standard or blanket purchase order\n",
    " - Straightforward. As long as they have the ability to automate setting up purchase orders, a suitable API at our end with read-only privileges on the database could be called by whatever system they choose. \n",
    " \n",
    "Overall, it is my opinion that the first two of these options are actually not our purview. \n",
    "\n",
    "---\n",
    "\n",
    "Highest priority for Averda seems to be (3) anyway\n",
    "\n",
    "Nic concerned that we must build something suited to more than one customer; no need to massively specialise the API\n",
    "\n",
    "Will need authentication; API keys?\n",
    "\n",
    "Salesforce is a working example\n",
    "\n",
    "API is desired to have a subscribe/push process, so that when an event is complete, the subscriber who ran the event has the data pushed to their endpoint. \n",
    "\n",
    "A polling mechanism is a possible alternative, but less optimal. Endpoint can push whatever and their integration server will take care of parsing and inserting; suggest JSON for maximum compatibility across clients.\n",
    "\n",
    "Currently processing from XLSX or CSV which is a manual process\n",
    "\n",
    "Request for a feedback function which should respond with a success or failure message on data insert."
   ]
  }
 ],
 "metadata": {
  "kernelspec": {
   "display_name": "Ruby 2.3.0",
   "language": "ruby",
   "name": "ruby"
  },
  "language_info": {
   "file_extension": ".rb",
   "mimetype": "application/x-ruby",
   "name": "ruby",
   "version": "2.3.0"
  }
 },
 "nbformat": 4,
 "nbformat_minor": 1
}
