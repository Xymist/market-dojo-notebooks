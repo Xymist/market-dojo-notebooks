{
 "cells": [
  {
   "cell_type": "markdown",
   "metadata": {},
   "source": [
    "# MJ First Steps\n",
    "\n",
    "- Update wiki instructions for dev env\n",
    "- Record issues in Refactor milestone (Zoho bugtracker)\n",
    "- Diarise meeting to review issues noticed (appx 28th October 2pm)\n",
    "- Market Dojo slack channel\n",
    "\n",
    "- Spinner for button with JS?\n",
    "\n",
    "**Objectives - Nic**\n",
    "\n",
    "- 60% head down dev\n",
    " - Bugfixes **and** features\n",
    "- 20% ops/support\n",
    " - 1st/2nd/3rd line support\n",
    " - Webchat, email\n",
    "- 20% project management\n",
    "\n",
    "- Including ~10% admin\n",
    "\n",
    "\n"
   ]
  }
 ],
 "metadata": {
  "kernelspec": {
   "display_name": "Ruby 2.3.1",
   "language": "ruby",
   "name": "ruby"
  },
  "language_info": {
   "file_extension": ".rb",
   "mimetype": "application/x-ruby",
   "name": "ruby",
   "version": "2.3.1"
  }
 },
 "nbformat": 4,
 "nbformat_minor": 1
}
