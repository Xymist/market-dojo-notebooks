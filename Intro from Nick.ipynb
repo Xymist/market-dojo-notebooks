{
 "cells": [
  {
   "cell_type": "markdown",
   "metadata": {},
   "source": [
    "**Sales and Support Fields**\n",
    "\n",
    "Zoho SalesIQ, CRM, Support. \n",
    "Essentially as already knowm. Importance of categorisation of contact type, contact method, etc ect v\n",
    "\n",
    "**Customers**\n",
    "\n",
    "£50-500 million turnover, roughly. Mostly private, some public.\n",
    "\n",
    "Terri Hudson @ Baker Wanless\n",
    "Aggreko\n",
    "Price advantage vs SAP, Oracle\n",
    "\n",
    "Charities and public sector: 30 days on TED via API; send interested suppliers documentation etc\n",
    "40 days to respond, then quotations etc etc. Most Economically Advantageous Tender - cost, capability, support level etc\n",
    "\n",
    "**Products**\n",
    "\n",
    "Category assessment tools are less common, hence Category Dojo freemium situation. Good for CFOs and consultants.\n",
    "Innovation Dojo - currently zero clients. Intended for pushing ideas to market; somewhat of a challenge to 'sell' because it would be a major change of direction for most companies.\n",
    "SIM Dojo - Marketing heavily, AdWords etc. PHS flagship client, Aggreko looking for demo and may well come onboard. Soprosteria client number two; not as clearly high RoI but is comparable to insurance in terms of applicability. Supplier onboarding and vetting is increasing in importance.\n",
    "\n",
    "**Partners & Resellers**\n",
    "\n",
    "Partner: helps promote the brand/company; assists with sales and marketing. Offer 5-25% commission where desired; not always taken, scales with degree of qualification to 25% if the partner does the sale.\n",
    "Some individuals e.g. John Howell - makes warm contacts e.g. JetTo.\n",
    "Paul Ger - owns software for savings tracking. Points people in the right direction\n",
    "\n",
    "Resellers: as above, but always does the full sale, and manages the invoicing, training and support. Commission 35%.\n",
    "E.g. reseller in Guatemala; sugar mill & oils factory (Grupo Hame).\n",
    "\n",
    "Potentials: KPMG"
   ]
  }
 ],
 "metadata": {
  "kernelspec": {
   "display_name": "Ruby 2.3.0",
   "language": "ruby",
   "name": "ruby"
  },
  "language_info": {
   "file_extension": ".rb",
   "mimetype": "application/x-ruby",
   "name": "ruby",
   "version": "2.3.0"
  }
 },
 "nbformat": 4,
 "nbformat_minor": 1
}
