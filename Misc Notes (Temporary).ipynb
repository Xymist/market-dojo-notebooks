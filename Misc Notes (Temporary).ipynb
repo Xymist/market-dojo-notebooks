{
 "cells": [
  {
   "cell_type": "markdown",
   "metadata": {},
   "source": [
    "# Misc Notes (For categorising)\n",
    " \n",
    "**Internal needs**\n",
    "\n",
    " - Reports\n",
    " - DB data\n",
    " - Graphs\n",
    " - Post-auction direction to SIMDojo?\n",
    "\n",
    "**External needs**\n",
    " - Event specifications\n",
    " - Automatic templating?\n",
    " \n",
    "\n"
   ]
  }
 ],
 "metadata": {
  "kernelspec": {
   "display_name": "Ruby 2.3.0",
   "language": "ruby",
   "name": "ruby"
  },
  "language_info": {
   "file_extension": ".rb",
   "mimetype": "application/x-ruby",
   "name": "ruby",
   "version": "2.3.0"
  }
 },
 "nbformat": 4,
 "nbformat_minor": 1
}
