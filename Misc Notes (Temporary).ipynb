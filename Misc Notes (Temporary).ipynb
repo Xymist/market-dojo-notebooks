{
 "cells": [
  {
   "cell_type": "markdown",
   "metadata": {},
   "source": [
    "# Short Term Questions\n",
    "\n",
    "**Marketing**\n",
    " - Post-auction direction to SIMDojo?\n",
    " \n",
    " **Performance**\n",
    " \n",
    " - Ask iKantam\n",
    "  - Why are we serving all these fonts and assets ourselves rather than through a CDN?\n",
    "  \n",
    "Message system during events is making a multiple-database-call request and re-rendering a view *that isn't even visible* most of the time, every fifteen seconds *on the quarter* for *every single participant*. Counts out at 35ms view, 1-2ms database for each request. Currently not exactly a problem, but not fantastically scaleable. we should use something memory-based, either a messaging service (Kafka?), a single-render multiple-push backend with websockets, or even just a fourteen-second cache of the data and rendered partial!\n",
    " \n"
   ]
  }
 ],
 "metadata": {
  "kernelspec": {
   "display_name": "Ruby 2.3.1",
   "language": "ruby",
   "name": "ruby"
  },
  "language_info": {
   "file_extension": ".rb",
   "mimetype": "application/x-ruby",
   "name": "ruby",
   "version": "2.3.1"
  }
 },
 "nbformat": 4,
 "nbformat_minor": 1
}
