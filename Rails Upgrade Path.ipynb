{
 "cells": [
  {
   "cell_type": "markdown",
   "metadata": {},
   "source": [
    "# Rails Upgrade Path\n",
    "\n",
    "Remove Comatose (Not forward compatible)\n",
    "\n",
    "Move to Rails 4.0 from v3.2.22.3\n",
    "\n",
    " - Next significant version of Rails\n",
    " - Compatible with current (2.1.1) version of Ruby\n",
    " - Recommended upgrade path exists\n",
    " \n",
    "Update Gem dependencies to R4.0 compatible versions\n",
    "\n",
    " - Will have to check these individually for compatibility\n",
    " - Generate new Rails 4.0 project and use that Gemfile plus all additional dependencies?\n",
    " - Replace deprecated, unused or unmaintained gems where at all possible\n",
    "  - How deeply embedded is Comatose? That in particular could be an enormous task, especially with all the tests to rewrite.\n",
    "   - Write own CMS?\n",
    "   - Update Comatose to be a Rails 4.0 gem?\n",
    "   - Find new recommended R4.0 compatible CMS?\n",
    "  - Replace Squeel with BabySqueel\n",
    "   - Unsure how much this will break; best to check.\n",
    " \n",
    "Fix all the test failures this will cause\n",
    " - 99%+ test coverage should make this relatively straightforward to check, although with the number of methods to check it will be quite time consuming.\n",
    " \n",
    "Repeat with Rails 4.1 and 4.2\n",
    " - These will both work with current Ruby version\n",
    " - Recognised upgrade paths\n",
    " - Most 4.0 gems will work up to 4.2 without significant modification\n",
    " - Ensures all the tests are up to scratch\n",
    "\n",
    "Evaluate position. Rails 5 has a lot of major breaking changes, and will also require moving to (at minimum) Ruby 2.2.2 and more probably Ruby 2.3.1 for forward compatibility:\n",
    " - Another round of Gem updating/upgrading/replacing\n",
    " - Rewriting a *lot* of the existing tests\n",
    " - Updating Rubocop, Parser and Reek to the latest versions and running them again\n",
    "  - These will undoubtedly report a constellation of new and different errors due to the changes in syntax and method names that Ruby has undergone in the last few years."
   ]
  }
 ],
 "metadata": {
  "kernelspec": {
   "display_name": "Ruby 2.3.0",
   "language": "ruby",
   "name": "ruby"
  },
  "language_info": {
   "file_extension": ".rb",
   "mimetype": "application/x-ruby",
   "name": "ruby",
   "version": "2.3.0"
  }
 },
 "nbformat": 4,
 "nbformat_minor": 1
}
