{
 "cells": [
  {
   "cell_type": "markdown",
   "metadata": {},
   "source": [
    "# Objective\n",
    "\n",
    "To create a microservice, to be deployed on the production server, which has read-only access to the production database and can generate reports from arbitrary SQL queries. \n",
    "\n",
    "# Concerns\n",
    "\n",
    " - Must be usable by non-technical personnel, such as sales and marketing\n",
    " - Must be secure, with user accounts having encrypted passwords\n",
    " - Development time should be as short as possible\n",
    " \n",
    " - May be capable of generating PDF reports containing graphs, tables or arbitrary text\n",
    " - May send generated reports on a regular basis to users who have requested them\n",
    " - May utilise templates for speed of use\n",
    " \n",
    " - Must not use outdated technologies\n",
    " - Must be capable of storing queries for repeated use\n",
    " - Must be capable of generating both graphs and tables\n",
    " - Must not be capable of writing to database\n",
    " - Must not interfere with existing app - light touch on the queries\n",
    " \n",
    "# Approach\n",
    "\n",
    " - Suggest a Rails 5 app\n",
    " - Utilising Blazer for DB querying\n",
    "  - Rapid development due to existing framework\n",
    "  - Have used Blazer before successfully\n",
    "  - Customisable as needed\n",
    " - Utilising Devise and BCrypt for security\n",
    " - Utilising a read-only MariaDB user\n",
    " - Utilising ChartKick for simple graphs\n",
    " - Utilising RubyVis for complex/downloadable graphs and reports\n",
    " - Utilising WickedPDF for PDF report generation\n",
    " - Possibly using ActionMailer and Delayed Job for regular emailed reports\n",
    " - Puma server on nonstandard port (3002? Or maybe no port, use Unix socket instead) with Nginx pointing from subdomain\n",
    "  - reports.marketdojo.com?"
   ]
  }
 ],
 "metadata": {
  "kernelspec": {
   "display_name": "Ruby 2.3.1",
   "language": "ruby",
   "name": "ruby"
  },
  "language_info": {
   "file_extension": ".rb",
   "mimetype": "application/x-ruby",
   "name": "ruby",
   "version": "2.3.1"
  }
 },
 "nbformat": 4,
 "nbformat_minor": 1
}
