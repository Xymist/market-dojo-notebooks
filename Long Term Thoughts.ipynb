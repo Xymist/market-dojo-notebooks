{
 "cells": [
  {
   "cell_type": "markdown",
   "metadata": {},
   "source": [
    "# Long Term Potentials\n",
    "\n",
    "**Jenkins Test Coverage Task**\n",
    "\n",
    "Simple one - fix the metric_fu task on Jenkins so that we have a good grasp on our code coverage on an ongoing basis.\n",
    "\n",
    "**Performance Metrics**\n",
    "\n",
    "Automated testing of pageload times for the site.\n",
    "\n",
    "**Tensorflow**\n",
    "\n",
    "We're gathering quite a lot of data about how people bid, the end values of lots given the qualification price, average bid rate, optimum lot length and various other metrics, purely by virtue of retaining all the events in the database.\n",
    "\n",
    "I think there's an opportunity here to give advice to the Hosts about how they should structure their auctions given their requirements. Exactly how we go about that is a question of its own, but given some specific questions (\"what lot length results in the most bids without long waits at the beginning or end, and without cutting off a good competition?\" would be a naive example) we could train a TensorFlow neural net on the data we already have and see if it produces good predictions which we could then feed back to the Hosts and help them design their lots better.\n",
    "\n",
    "**Natural Language Processing**\n",
    "\n",
    "It would seem reasonable that, given we already provide document uploading capabilities, we could wire the document retrieval to the Google Natural Language API. That would allow all participants and hosts to submit and retrieve documents in their own language, without worrying about to whom they will be sent or in what language they were originally. For companies like Aggreko, who could have someone speaking one language submitting jobs to be bid for in countries where the official language is something different, this would be a significant reduction in friction. Currently the most 'production ready' languages are English and Spanish, which would be somewhat useful in Europe and moreso in the Americas.\n",
    "\n",
    "In this vein we should encourage the people who spend most time on support (Lewis, Pete, Craig) to use the web interface for support, as Zoho provide a realtime translation service. It looks good to look multinational and talk to people in their own languages.\n",
    "\n",
    "**Amazon Scaleability**\n",
    "\n",
    "Amazon provide both database instances (RDS) and compute (EC2), plus storage (S3). Conveniently packaged as Elastic Beanstalk this provides us somewhere to put the app which will autoscale (to a point). As a place to move away from Liberata this offers significant potential.\n",
    "\n",
    "**Simian Army**\n",
    "\n",
    "If we're bringing on bigger clients, and we need to provide things like APIs and service assurances, we will need to (at minimum) mirror the application. No need to shard the database unless we get significantly more business, but the app itself ought to have multiple instances and load balancing. Doing this with Kubernetes (or Amazon's equivalent containerised EC2 service) makes the most sense (see Amazon Scaleability), and once we get a good load balancer in front of it should make the app much more resilient.\n",
    "\n",
    "As part of this, it would be a good idea to start introducing Simian Army. Janitor Monkey in particular would be helpful; Conformity Monkey is essentially obviated by the use of containerised environments and we don't have the staff to cope with Chaos Monkey yet (although that would be a good plan for the longer term).\n",
    "\n",
    "**Rspec Deprecations**\n",
    "\n",
    "Long term because this is going to be a big job. We need to sort out the deprecation issues, whether that's changing some syntax or upgrading some gems. They're slowing us down, not to mention driving the devs insane because running tests generates a sea of rubbish. They also may be behind why running Rspec in parallel fails. \n",
    "\n",
    "**Rubocopping**\n",
    "\n",
    "The automated stuff we can do immediately, that's not a problem, although some of the automatic cops aren't very bright and break things. Once that's done, though, the rest need manually changing. This is especially important if we want to upgrade the Rails version, since that's going to break many, many things further down the line and it's hard to tell what the real problem is if some of it is syntax errors. See also deprecations.\n",
    "\n",
    "**Test Conversion**\n",
    "\n",
    "A number of the tests for the app are still in Test::Unit rather than Rspec, and those that are in Rspec are purely for the Ruby. Converting all the Ruby tests to Rspec, and then creating a suite of Jasmine tests for our JS (which, according to GitHub, is actually larger than the Ruby code!) which Rspec runs when commanded, should give us much better clarity on exactly what is working and what is not. Might even uncover some bugs. \n",
    "\n",
    "We also have some issues (many issues!) with running tests late at night and early in the morning. Optimally these would be fixed; it appears to be an issue with Timecop. In addition to the general problem that automated tests can't be run overnight when nobody's looking, this implies that our test suite(s?) is non-deterministic. In combination with the issues around parallelising the tests (they fail in great numbers for no sufficiently-obvious reason)"
   ]
  }
 ],
 "metadata": {
  "kernelspec": {
   "display_name": "Ruby 2.3.1",
   "language": "ruby",
   "name": "ruby"
  },
  "language_info": {
   "file_extension": ".rb",
   "mimetype": "application/x-ruby",
   "name": "ruby",
   "version": "2.3.1"
  }
 },
 "nbformat": 4,
 "nbformat_minor": 1
}
